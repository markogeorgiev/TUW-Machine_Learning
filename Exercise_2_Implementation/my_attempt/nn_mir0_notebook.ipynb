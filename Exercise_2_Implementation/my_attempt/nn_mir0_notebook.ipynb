{
 "cells": [
  {
   "metadata": {},
   "cell_type": "markdown",
   "source": [
    "This notebook test the NN from scratch implementation of our group on two dataset. \n",
    "- We test on the Student Academic Success and \n",
    "- Congressional Voting "
   ],
   "id": "47ef88c07e04050a"
  },
  {
   "metadata": {
    "ExecuteTime": {
     "end_time": "2025-05-24T21:13:11.661360Z",
     "start_time": "2025-05-24T21:13:11.655470Z"
    }
   },
   "cell_type": "code",
   "source": [
    "def build_nn(model_type, input_dim, output_dim):\n",
    "    nn = NeuralNetwork()\n",
    "\n",
    "    if model_type == \"1_relu\":\n",
    "        nn.add_layer(input_dim, 6, \"relu\")\n",
    "        nn.add_layer(6, output_dim, \"softmax\")\n",
    "\n",
    "    elif model_type == \"1_sigmoid\":\n",
    "        nn.add_layer(input_dim, 6, \"sigmoid\")\n",
    "        nn.add_layer(6, output_dim, \"softmax\")\n",
    "\n",
    "    elif model_type == \"4_relu\":\n",
    "        nn.add_layer(input_dim, 32, \"relu\")\n",
    "        nn.add_layer(32, 16, \"relu\")\n",
    "        nn.add_layer(16, 8, \"relu\")\n",
    "        nn.add_layer(8, 4, \"relu\")\n",
    "        nn.add_layer(4, output_dim, \"softmax\")\n",
    "\n",
    "    elif model_type == \"4_sigmoid\":\n",
    "        nn.add_layer(input_dim, 32, \"sigmoid\")\n",
    "        nn.add_layer(32, 16, \"sigmoid\")\n",
    "        nn.add_layer(16, 8, \"sigmoid\")\n",
    "        nn.add_layer(8, 4, \"sigmoid\")\n",
    "        nn.add_layer(4, output_dim, \"softmax\")\n",
    "\n",
    "    return nn"
   ],
   "id": "63aa0e616b385d7d",
   "outputs": [],
   "execution_count": 142
  },
  {
   "metadata": {
    "ExecuteTime": {
     "end_time": "2025-05-24T21:13:31.216703Z",
     "start_time": "2025-05-24T21:13:31.210112Z"
    }
   },
   "cell_type": "code",
   "outputs": [],
   "execution_count": 143,
   "source": [
    "def train_model(model_name, X_train, y_train, X_test, y_test, epochs=100, lr=0.05):\n",
    "    nn = build_nn(model_name, input_dim=X_train.shape[1], output_dim=len(np.unique(y_train)))\n",
    "\n",
    "    for epoch in range(epochs):\n",
    "        y_pred = nn.forward(X_train)\n",
    "        loss = LossFunction.categorical_cross_entropy(y_pred, y_train)\n",
    "        grad = LossFunction.categorical_cross_entropy_derivative(y_pred, y_train)\n",
    "        nn.backward(grad, learning_rate=lr)\n",
    "\n",
    "        if epoch % 10 == 0 or epoch == epochs - 1:\n",
    "            acc = np.mean(np.argmax(y_pred, axis=1) == y_train)\n",
    "            print(f\"[{model_name.upper()}] Epoch {epoch}: Loss = {loss:.4f}, Accuracy = {acc:.4f}\")\n",
    "\n",
    "    y_test_pred = nn.forward(X_test)\n",
    "    acc_test = np.mean(np.argmax(y_test_pred, axis=1) == y_test)\n",
    "    print(f\"[{model_name.upper()}] Final Test Accuracy: {acc_test:.4f}\")"
   ],
   "id": "2f5cc3a887f582ae"
  },
  {
   "metadata": {},
   "cell_type": "markdown",
   "source": "## Student Dropout Dataset",
   "id": "13be0bd6dfdf389c"
  },
  {
   "metadata": {
    "ExecuteTime": {
     "end_time": "2025-05-24T21:13:39.825402Z",
     "start_time": "2025-05-24T21:13:39.821273Z"
    }
   },
   "cell_type": "code",
   "outputs": [],
   "execution_count": 145,
   "source": [
    "import numpy as np\n",
    "import pandas as pd\n",
    "from sklearn.model_selection import train_test_split\n",
    "from sklearn.preprocessing import StandardScaler\n",
    "from nn_mir0 import NeuralNetwork, LossFunction"
   ],
   "id": "69abf57eef630405"
  },
  {
   "metadata": {
    "ExecuteTime": {
     "end_time": "2025-05-24T21:13:40.554423Z",
     "start_time": "2025-05-24T21:13:40.534411Z"
    }
   },
   "cell_type": "code",
   "outputs": [],
   "execution_count": 146,
   "source": [
    "students_success_data_path = 'student_droupout_data.csv'\n",
    "df = pd.read_csv(students_success_data_path, sep=';')\n",
    "label_map = {'Dropout': 0, 'Enrolled': 1, 'Graduate': 2}"
   ],
   "id": "de24f5ee8dbe3d68"
  },
  {
   "metadata": {
    "ExecuteTime": {
     "end_time": "2025-05-24T21:13:41.113480Z",
     "start_time": "2025-05-24T21:13:41.105838Z"
    }
   },
   "cell_type": "code",
   "outputs": [],
   "execution_count": 147,
   "source": [
    "X = df.drop(\"Target\", axis=1).values\n",
    "y = np.array([label_map[label] for label in df[\"Target\"]])"
   ],
   "id": "9710476d2240c66a"
  },
  {
   "metadata": {
    "ExecuteTime": {
     "end_time": "2025-05-24T21:13:41.490146Z",
     "start_time": "2025-05-24T21:13:41.479448Z"
    }
   },
   "cell_type": "code",
   "outputs": [],
   "execution_count": 148,
   "source": [
    "X = StandardScaler().fit_transform(X)\n",
    "X_train, X_test, y_train, y_test = train_test_split(X, y, test_size=0.3, random_state=42)"
   ],
   "id": "e423ed4079cdda18"
  },
  {
   "metadata": {
    "ExecuteTime": {
     "end_time": "2025-05-24T21:13:44.303331Z",
     "start_time": "2025-05-24T21:13:42.800090Z"
    }
   },
   "cell_type": "code",
   "outputs": [
    {
     "name": "stdout",
     "output_type": "stream",
     "text": [
      "[1_RELU] Epoch 0: Loss = 1.7137, Accuracy = 0.5565\n",
      "[1_RELU] Epoch 10: Loss = 1.0268, Accuracy = 0.5284\n",
      "[1_RELU] Epoch 20: Loss = 1.0010, Accuracy = 0.5484\n",
      "[1_RELU] Epoch 30: Loss = 0.9804, Accuracy = 0.5672\n",
      "[1_RELU] Epoch 40: Loss = 0.9630, Accuracy = 0.5801\n",
      "[1_RELU] Epoch 50: Loss = 0.9477, Accuracy = 0.5917\n",
      "[1_RELU] Epoch 60: Loss = 0.9338, Accuracy = 0.6027\n",
      "[1_RELU] Epoch 70: Loss = 0.9211, Accuracy = 0.6079\n",
      "[1_RELU] Epoch 80: Loss = 0.9093, Accuracy = 0.6176\n",
      "[1_RELU] Epoch 90: Loss = 0.8980, Accuracy = 0.6224\n",
      "[1_RELU] Epoch 99: Loss = 0.8884, Accuracy = 0.6311\n",
      "[1_RELU] Final Test Accuracy: 0.6137\n",
      "[1_SIGMOID] Epoch 0: Loss = 1.0648, Accuracy = 0.4903\n",
      "[1_SIGMOID] Epoch 10: Loss = 1.0283, Accuracy = 0.4919\n",
      "[1_SIGMOID] Epoch 20: Loss = 1.0052, Accuracy = 0.4955\n",
      "[1_SIGMOID] Epoch 30: Loss = 0.9903, Accuracy = 0.5000\n",
      "[1_SIGMOID] Epoch 40: Loss = 0.9804, Accuracy = 0.5048\n",
      "[1_SIGMOID] Epoch 50: Loss = 0.9731, Accuracy = 0.5271\n",
      "[1_SIGMOID] Epoch 60: Loss = 0.9673, Accuracy = 0.6072\n",
      "[1_SIGMOID] Epoch 70: Loss = 0.9624, Accuracy = 0.6163\n",
      "[1_SIGMOID] Epoch 80: Loss = 0.9578, Accuracy = 0.6221\n",
      "[1_SIGMOID] Epoch 90: Loss = 0.9536, Accuracy = 0.6253\n",
      "[1_SIGMOID] Epoch 99: Loss = 0.9499, Accuracy = 0.6253\n",
      "[1_SIGMOID] Final Test Accuracy: 0.6017\n",
      "[4_RELU] Epoch 0: Loss = 9.3546, Accuracy = 0.3165\n",
      "[4_RELU] Epoch 10: Loss = 1.0418, Accuracy = 0.5061\n",
      "[4_RELU] Epoch 20: Loss = 1.0360, Accuracy = 0.5061\n",
      "[4_RELU] Epoch 30: Loss = 1.0315, Accuracy = 0.5061\n",
      "[4_RELU] Epoch 40: Loss = 1.0280, Accuracy = 0.5061\n",
      "[4_RELU] Epoch 50: Loss = 1.0253, Accuracy = 0.5061\n",
      "[4_RELU] Epoch 60: Loss = 1.0231, Accuracy = 0.5061\n",
      "[4_RELU] Epoch 70: Loss = 1.0215, Accuracy = 0.5061\n",
      "[4_RELU] Epoch 80: Loss = 1.0202, Accuracy = 0.5061\n",
      "[4_RELU] Epoch 90: Loss = 1.0192, Accuracy = 0.5061\n",
      "[4_RELU] Epoch 99: Loss = 1.0185, Accuracy = 0.5061\n",
      "[4_RELU] Final Test Accuracy: 0.4834\n",
      "[4_SIGMOID] Epoch 0: Loss = 1.0708, Accuracy = 0.5061\n",
      "[4_SIGMOID] Epoch 10: Loss = 1.0291, Accuracy = 0.5061\n",
      "[4_SIGMOID] Epoch 20: Loss = 1.0195, Accuracy = 0.5061\n",
      "[4_SIGMOID] Epoch 30: Loss = 1.0168, Accuracy = 0.5061\n",
      "[4_SIGMOID] Epoch 40: Loss = 1.0159, Accuracy = 0.5061\n",
      "[4_SIGMOID] Epoch 50: Loss = 1.0156, Accuracy = 0.5061\n",
      "[4_SIGMOID] Epoch 60: Loss = 1.0156, Accuracy = 0.5061\n",
      "[4_SIGMOID] Epoch 70: Loss = 1.0155, Accuracy = 0.5061\n",
      "[4_SIGMOID] Epoch 80: Loss = 1.0155, Accuracy = 0.5061\n",
      "[4_SIGMOID] Epoch 90: Loss = 1.0155, Accuracy = 0.5061\n",
      "[4_SIGMOID] Epoch 99: Loss = 1.0155, Accuracy = 0.5061\n",
      "[4_SIGMOID] Final Test Accuracy: 0.4834\n"
     ]
    }
   ],
   "execution_count": 149,
   "source": [
    "for model in [\"1_relu\", \"1_sigmoid\", \"4_relu\", \"4_sigmoid\"]:\n",
    "    train_model(model, X_train, y_train, X_test, y_test)"
   ],
   "id": "1ddbad18b1217250"
  },
  {
   "metadata": {},
   "cell_type": "markdown",
   "source": "## Congressional Voting Dataset",
   "id": "dad9cc9d9f72a0a8"
  },
  {
   "metadata": {
    "ExecuteTime": {
     "end_time": "2025-05-24T21:14:58.209532Z",
     "start_time": "2025-05-24T21:14:58.201526Z"
    }
   },
   "cell_type": "code",
   "outputs": [],
   "execution_count": 151,
   "source": [
    "from sklearn.impute import SimpleImputer\n",
    "\n",
    "congressional_voting_training_data_path = 'CongressionalVotingID.csv'\n",
    "df = pd.read_csv(congressional_voting_training_data_path)\n",
    "df.drop(df[np.isin(df['ID'], [184, 249])].index, inplace=True)\n",
    "df.drop(columns=['ID'], inplace=True)"
   ],
   "id": "21f5712706f12272"
  },
  {
   "metadata": {
    "ExecuteTime": {
     "end_time": "2025-05-24T21:14:58.413018Z",
     "start_time": "2025-05-24T21:14:58.408767Z"
    }
   },
   "cell_type": "code",
   "outputs": [],
   "execution_count": 152,
   "source": [
    "label_map = {'democrat': 0, 'republican': 1}\n",
    "y = np.array([label_map[val] for val in df[\"class\"]])"
   ],
   "id": "6618304a40347c1c"
  },
  {
   "metadata": {
    "ExecuteTime": {
     "end_time": "2025-05-24T21:14:58.635532Z",
     "start_time": "2025-05-24T21:14:58.629313Z"
    }
   },
   "cell_type": "code",
   "outputs": [],
   "execution_count": 153,
   "source": [
    "X = df.drop(\"class\", axis=1).values\n",
    "X = np.where(X == 'unknown', np.nan, X)\n",
    "X = np.where(X == 'y', 1, X)\n",
    "X = np.where(X == 'n', 0, X)"
   ],
   "id": "cc09b41fddbae355"
  },
  {
   "metadata": {
    "ExecuteTime": {
     "end_time": "2025-05-24T21:14:58.901608Z",
     "start_time": "2025-05-24T21:14:58.893941Z"
    }
   },
   "cell_type": "code",
   "outputs": [],
   "execution_count": 154,
   "source": [
    "X = SimpleImputer(strategy='most_frequent').fit_transform(X).astype(np.float32)\n",
    "X_train, X_test, y_train, y_test = train_test_split(X, y, test_size=0.3, random_state=42)"
   ],
   "id": "f1a5d8f6329e292d"
  },
  {
   "metadata": {
    "ExecuteTime": {
     "end_time": "2025-05-24T21:14:59.477062Z",
     "start_time": "2025-05-24T21:14:59.343951Z"
    }
   },
   "cell_type": "code",
   "outputs": [
    {
     "name": "stdout",
     "output_type": "stream",
     "text": [
      "[1_RELU] Epoch 0: Loss = 0.9459, Accuracy = 0.4305\n",
      "[1_RELU] Epoch 10: Loss = 0.9929, Accuracy = 0.4702\n",
      "[1_RELU] Epoch 20: Loss = 0.7297, Accuracy = 0.6821\n",
      "[1_RELU] Epoch 30: Loss = 0.3674, Accuracy = 0.8675\n",
      "[1_RELU] Epoch 40: Loss = 0.2949, Accuracy = 0.8675\n",
      "[1_RELU] Epoch 50: Loss = 0.2763, Accuracy = 0.8675\n",
      "[1_RELU] Epoch 60: Loss = 0.2605, Accuracy = 0.8742\n",
      "[1_RELU] Epoch 70: Loss = 0.2468, Accuracy = 0.8874\n",
      "[1_RELU] Epoch 80: Loss = 0.2346, Accuracy = 0.8874\n",
      "[1_RELU] Epoch 90: Loss = 0.2236, Accuracy = 0.9007\n",
      "[1_RELU] Epoch 99: Loss = 0.2146, Accuracy = 0.9139\n",
      "[1_RELU] Final Test Accuracy: 0.9692\n",
      "[1_SIGMOID] Epoch 0: Loss = 0.7066, Accuracy = 0.4172\n",
      "[1_SIGMOID] Epoch 10: Loss = 0.6798, Accuracy = 0.5828\n",
      "[1_SIGMOID] Epoch 20: Loss = 0.6792, Accuracy = 0.5828\n",
      "[1_SIGMOID] Epoch 30: Loss = 0.6791, Accuracy = 0.5828\n",
      "[1_SIGMOID] Epoch 40: Loss = 0.6791, Accuracy = 0.5828\n",
      "[1_SIGMOID] Epoch 50: Loss = 0.6790, Accuracy = 0.5828\n",
      "[1_SIGMOID] Epoch 60: Loss = 0.6790, Accuracy = 0.5828\n",
      "[1_SIGMOID] Epoch 70: Loss = 0.6789, Accuracy = 0.5828\n",
      "[1_SIGMOID] Epoch 80: Loss = 0.6789, Accuracy = 0.5828\n",
      "[1_SIGMOID] Epoch 90: Loss = 0.6789, Accuracy = 0.5828\n",
      "[1_SIGMOID] Epoch 99: Loss = 0.6788, Accuracy = 0.5828\n",
      "[1_SIGMOID] Final Test Accuracy: 0.5846\n",
      "[4_RELU] Epoch 0: Loss = 6.7248, Accuracy = 0.5828\n",
      "[4_RELU] Epoch 10: Loss = 0.7829, Accuracy = 0.4172\n",
      "[4_RELU] Epoch 20: Loss = 0.7424, Accuracy = 0.4172\n",
      "[4_RELU] Epoch 30: Loss = 0.7175, Accuracy = 0.4172\n",
      "[4_RELU] Epoch 40: Loss = 0.7024, Accuracy = 0.4172\n",
      "[4_RELU] Epoch 50: Loss = 0.6933, Accuracy = 0.4172\n",
      "[4_RELU] Epoch 60: Loss = 0.6878, Accuracy = 0.5828\n",
      "[4_RELU] Epoch 70: Loss = 0.6845, Accuracy = 0.5828\n",
      "[4_RELU] Epoch 80: Loss = 0.6825, Accuracy = 0.5828\n",
      "[4_RELU] Epoch 90: Loss = 0.6813, Accuracy = 0.5828\n",
      "[4_RELU] Epoch 99: Loss = 0.6806, Accuracy = 0.5828\n",
      "[4_RELU] Final Test Accuracy: 0.5846\n",
      "[4_SIGMOID] Epoch 0: Loss = 0.8450, Accuracy = 0.4172\n",
      "[4_SIGMOID] Epoch 10: Loss = 0.6916, Accuracy = 0.5828\n",
      "[4_SIGMOID] Epoch 20: Loss = 0.6803, Accuracy = 0.5828\n",
      "[4_SIGMOID] Epoch 30: Loss = 0.6794, Accuracy = 0.5828\n",
      "[4_SIGMOID] Epoch 40: Loss = 0.6794, Accuracy = 0.5828\n",
      "[4_SIGMOID] Epoch 50: Loss = 0.6794, Accuracy = 0.5828\n",
      "[4_SIGMOID] Epoch 60: Loss = 0.6794, Accuracy = 0.5828\n",
      "[4_SIGMOID] Epoch 70: Loss = 0.6794, Accuracy = 0.5828\n",
      "[4_SIGMOID] Epoch 80: Loss = 0.6794, Accuracy = 0.5828\n",
      "[4_SIGMOID] Epoch 90: Loss = 0.6794, Accuracy = 0.5828\n",
      "[4_SIGMOID] Epoch 99: Loss = 0.6794, Accuracy = 0.5828\n",
      "[4_SIGMOID] Final Test Accuracy: 0.5846\n"
     ]
    }
   ],
   "execution_count": 155,
   "source": [
    "for model in [\"1_relu\", \"1_sigmoid\", \"4_relu\", \"4_sigmoid\"]:\n",
    "    train_model(model, X_train, y_train, X_test, y_test)"
   ],
   "id": "eb8bbca9434880fc"
  }
 ],
 "metadata": {
  "kernelspec": {
   "display_name": "Python 3",
   "language": "python",
   "name": "python3"
  },
  "language_info": {
   "codemirror_mode": {
    "name": "ipython",
    "version": 2
   },
   "file_extension": ".py",
   "mimetype": "text/x-python",
   "name": "python",
   "nbconvert_exporter": "python",
   "pygments_lexer": "ipython2",
   "version": "2.7.6"
  }
 },
 "nbformat": 4,
 "nbformat_minor": 5
}
