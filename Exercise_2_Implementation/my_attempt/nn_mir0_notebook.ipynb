{
 "cells": [
  {
   "metadata": {},
   "cell_type": "markdown",
   "source": [
    "This notebook test the NN from scratch implementation of our group on two dataset. \n",
    "- We test on the Student Academic Success and \n",
    "- Congressional Voting\n",
    " \n",
    "1. `build_nn` builds our models with the same architectures across all implementations. \n",
    "2. `analyze_model` gives memory statistics as well as info on wights, biases, activation.\n",
    "3. `train_model` trains and tests the model and gives statistics. "
   ],
   "id": "47ef88c07e04050a"
  },
  {
   "metadata": {
    "ExecuteTime": {
     "end_time": "2025-05-26T03:21:26.535087Z",
     "start_time": "2025-05-26T03:21:26.527700Z"
    }
   },
   "cell_type": "code",
   "source": [
    "def build_nn(model_type, input_dim, output_dim):\n",
    "    nn = NeuralNetwork()\n",
    "\n",
    "    if model_type == \"1_relu\":\n",
    "        nn.add_layer(input_dim, 6, \"relu\")\n",
    "        nn.add_layer(6, output_dim, \"softmax\")\n",
    "\n",
    "    elif model_type == \"1_sigmoid\":\n",
    "        nn.add_layer(input_dim, 6, \"sigmoid\")\n",
    "        nn.add_layer(6, output_dim, \"softmax\")\n",
    "\n",
    "    elif model_type == \"4_relu\":\n",
    "        nn.add_layer(input_dim, 32, \"relu\")\n",
    "        nn.add_layer(32, 16, \"relu\")\n",
    "        nn.add_layer(16, 8, \"relu\")\n",
    "        nn.add_layer(8, 4, \"relu\")\n",
    "        nn.add_layer(4, output_dim, \"softmax\")\n",
    "\n",
    "    elif model_type == \"4_sigmoid\":\n",
    "        nn.add_layer(input_dim, 32, \"sigmoid\")\n",
    "        nn.add_layer(32, 16, \"sigmoid\")\n",
    "        nn.add_layer(16, 8, \"sigmoid\")\n",
    "        nn.add_layer(8, 4, \"sigmoid\")\n",
    "        nn.add_layer(4, output_dim, \"softmax\")\n",
    "\n",
    "    return nn"
   ],
   "id": "63aa0e616b385d7d",
   "outputs": [],
   "execution_count": 1
  },
  {
   "metadata": {
    "ExecuteTime": {
     "end_time": "2025-05-26T03:21:26.557887Z",
     "start_time": "2025-05-26T03:21:26.551808Z"
    }
   },
   "cell_type": "code",
   "source": [
    "def train_model(model_name, X_train, y_train, X_test, y_test, epochs=100, lr=0.05):\n",
    "    nn = build_nn(model_name, input_dim=X_train.shape[1], output_dim=len(np.unique(y_train)))\n",
    "    \n",
    "    total_params, ram_usage = analyze_model(nn, input_dim=X_train.shape[1], batch_size=X_train.shape[0])\n",
    "    print(f\"[{model_name.upper()}] Total Learnable Parameters: {total_params}\")\n",
    "    print(f\"[{model_name.upper()}] Estimated Virtual RAM Usage: {ram_usage:.2f} MB\\n\")\n",
    "\n",
    "\n",
    "    for epoch in range(epochs):\n",
    "        y_pred = nn.forward(X_train)\n",
    "        loss = LossFunction.categorical_cross_entropy(y_pred, y_train)\n",
    "        grad = LossFunction.categorical_cross_entropy_derivative(y_pred, y_train)\n",
    "        nn.backward(grad, learning_rate=lr)\n",
    "\n",
    "        if epoch % 10 == 0 or epoch == epochs - 1:\n",
    "            acc = np.mean(np.argmax(y_pred, axis=1) == y_train)\n",
    "            print(f\"[{model_name.upper()}] Epoch {epoch}: Loss = {loss:.4f}, Accuracy = {acc:.4f}\")\n",
    "\n",
    "    y_test_pred = nn.forward(X_test)\n",
    "    acc_test = np.mean(np.argmax(y_test_pred, axis=1) == y_test)\n",
    "    print(f\"[{model_name.upper()}] Final Test Accuracy: {acc_test:.4f}\")"
   ],
   "id": "2f5cc3a887f582ae",
   "outputs": [],
   "execution_count": 2
  },
  {
   "metadata": {
    "ExecuteTime": {
     "end_time": "2025-05-26T03:21:26.572001Z",
     "start_time": "2025-05-26T03:21:26.565782Z"
    }
   },
   "cell_type": "code",
   "source": [
    "def analyze_model(nn, input_dim, batch_size=1):\n",
    "    total_params = 0\n",
    "    total_memory_bytes = 0\n",
    "    current_input_dim = input_dim\n",
    "\n",
    "    for layer in nn.layers:\n",
    "        W_shape = layer.W.shape\n",
    "        b_shape = layer.b.shape\n",
    "\n",
    "        # Count parameters\n",
    "        num_weights = np.prod(W_shape)\n",
    "        num_biases = np.prod(b_shape)\n",
    "        layer_params = num_weights + num_biases\n",
    "        total_params += layer_params\n",
    "\n",
    "        # Estimate memory: weights, biases, activations, gradients\n",
    "        weights_bytes = num_weights * 8\n",
    "        biases_bytes = num_biases * 8\n",
    "        activations_bytes = np.prod(layer.a.shape) * 8 * batch_size if layer.a is not None else layer.b.shape[1] * 8 * batch_size\n",
    "        gradients_bytes = (num_weights + num_biases + current_input_dim * layer.W.shape[1]) * 8\n",
    "\n",
    "        layer_memory = weights_bytes + biases_bytes + activations_bytes + gradients_bytes\n",
    "        total_memory_bytes += layer_memory\n",
    "\n",
    "        current_input_dim = layer.W.shape[1]  # Update input for next layer\n",
    "\n",
    "    total_memory_mb = total_memory_bytes / (1024 ** 2)\n",
    "\n",
    "    return total_params, total_memory_mb\n"
   ],
   "id": "6cfc13a56fc891b6",
   "outputs": [],
   "execution_count": 3
  },
  {
   "metadata": {},
   "cell_type": "markdown",
   "source": "## Student Dropout Dataset",
   "id": "13be0bd6dfdf389c"
  },
  {
   "metadata": {
    "ExecuteTime": {
     "end_time": "2025-05-26T03:21:34.177284Z",
     "start_time": "2025-05-26T03:21:26.580278Z"
    }
   },
   "cell_type": "code",
   "source": [
    "import numpy as np\n",
    "import pandas as pd\n",
    "from sklearn.model_selection import train_test_split\n",
    "from sklearn.preprocessing import StandardScaler\n",
    "from nn_mir0 import NeuralNetwork, LossFunction"
   ],
   "id": "69abf57eef630405",
   "outputs": [],
   "execution_count": 4
  },
  {
   "metadata": {
    "ExecuteTime": {
     "end_time": "2025-05-26T03:21:34.709378Z",
     "start_time": "2025-05-26T03:21:34.663631Z"
    }
   },
   "cell_type": "code",
   "source": [
    "students_success_data_path = 'student_droupout_data.csv'\n",
    "df = pd.read_csv(students_success_data_path, sep=';')\n",
    "label_map = {'Dropout': 0, 'Enrolled': 1, 'Graduate': 2}"
   ],
   "id": "de24f5ee8dbe3d68",
   "outputs": [],
   "execution_count": 5
  },
  {
   "metadata": {
    "ExecuteTime": {
     "end_time": "2025-05-26T03:21:34.800598Z",
     "start_time": "2025-05-26T03:21:34.792866Z"
    }
   },
   "cell_type": "code",
   "source": [
    "X = df.drop(\"Target\", axis=1).values\n",
    "y = np.array([label_map[label] for label in df[\"Target\"]])"
   ],
   "id": "9710476d2240c66a",
   "outputs": [],
   "execution_count": 6
  },
  {
   "metadata": {
    "ExecuteTime": {
     "end_time": "2025-05-26T03:21:34.832311Z",
     "start_time": "2025-05-26T03:21:34.822258Z"
    }
   },
   "cell_type": "code",
   "source": [
    "X = StandardScaler().fit_transform(X)\n",
    "X_train, X_test, y_train, y_test = train_test_split(X, y, test_size=0.3, random_state=42)"
   ],
   "id": "e423ed4079cdda18",
   "outputs": [],
   "execution_count": 7
  },
  {
   "metadata": {
    "ExecuteTime": {
     "end_time": "2025-05-26T03:22:26.425366Z",
     "start_time": "2025-05-26T03:22:26.401477Z"
    }
   },
   "cell_type": "code",
   "source": "train_model(\"1_relu\", X_train, y_train, X_test, y_test)",
   "id": "1ddbad18b1217250",
   "outputs": [
    {
     "name": "stdout",
     "output_type": "stream",
     "text": [
      "[1_RELU] Total Learnable Parameters: 116\n",
      "[1_RELU] Estimated Virtual RAM Usage: 0.01 MB\n",
      "\n",
      "[1_RELU] Epoch 0: Loss = 0.8053, Accuracy = 0.4172\n",
      "[1_RELU] Epoch 10: Loss = 0.7301, Accuracy = 0.4371\n",
      "[1_RELU] Epoch 20: Loss = 0.7075, Accuracy = 0.4305\n",
      "[1_RELU] Epoch 30: Loss = 0.6850, Accuracy = 0.5629\n",
      "[1_RELU] Epoch 40: Loss = 0.6568, Accuracy = 0.6689\n",
      "[1_RELU] Epoch 50: Loss = 0.6193, Accuracy = 0.7020\n",
      "[1_RELU] Epoch 60: Loss = 0.5705, Accuracy = 0.7616\n",
      "[1_RELU] Epoch 70: Loss = 0.5108, Accuracy = 0.8411\n",
      "[1_RELU] Epoch 80: Loss = 0.4466, Accuracy = 0.8477\n",
      "[1_RELU] Epoch 90: Loss = 0.3872, Accuracy = 0.8543\n",
      "[1_RELU] Epoch 99: Loss = 0.3434, Accuracy = 0.8675\n",
      "[1_RELU] Final Test Accuracy: 0.9385\n"
     ]
    }
   ],
   "execution_count": 20
  },
  {
   "metadata": {
    "ExecuteTime": {
     "end_time": "2025-05-26T03:22:27.086759Z",
     "start_time": "2025-05-26T03:22:27.059508Z"
    }
   },
   "cell_type": "code",
   "source": "train_model(\"1_sigmoid\", X_train, y_train, X_test, y_test)",
   "id": "67f012e95122a07d",
   "outputs": [
    {
     "name": "stdout",
     "output_type": "stream",
     "text": [
      "[1_SIGMOID] Total Learnable Parameters: 116\n",
      "[1_SIGMOID] Estimated Virtual RAM Usage: 0.01 MB\n",
      "\n",
      "[1_SIGMOID] Epoch 0: Loss = 0.7031, Accuracy = 0.4172\n",
      "[1_SIGMOID] Epoch 10: Loss = 0.6791, Accuracy = 0.5828\n",
      "[1_SIGMOID] Epoch 20: Loss = 0.6703, Accuracy = 0.5828\n",
      "[1_SIGMOID] Epoch 30: Loss = 0.6643, Accuracy = 0.5828\n",
      "[1_SIGMOID] Epoch 40: Loss = 0.6585, Accuracy = 0.5828\n",
      "[1_SIGMOID] Epoch 50: Loss = 0.6525, Accuracy = 0.5828\n",
      "[1_SIGMOID] Epoch 60: Loss = 0.6458, Accuracy = 0.5828\n",
      "[1_SIGMOID] Epoch 70: Loss = 0.6385, Accuracy = 0.5828\n",
      "[1_SIGMOID] Epoch 80: Loss = 0.6305, Accuracy = 0.5828\n",
      "[1_SIGMOID] Epoch 90: Loss = 0.6216, Accuracy = 0.5828\n",
      "[1_SIGMOID] Epoch 99: Loss = 0.6128, Accuracy = 0.5828\n",
      "[1_SIGMOID] Final Test Accuracy: 0.5846\n"
     ]
    }
   ],
   "execution_count": 21
  },
  {
   "metadata": {
    "ExecuteTime": {
     "end_time": "2025-05-26T03:22:27.919715Z",
     "start_time": "2025-05-26T03:22:27.862736Z"
    }
   },
   "cell_type": "code",
   "source": "train_model(\"4_relu\", X_train, y_train, X_test, y_test)",
   "id": "80e534ab56950a08",
   "outputs": [
    {
     "name": "stdout",
     "output_type": "stream",
     "text": [
      "[4_RELU] Total Learnable Parameters: 1254\n",
      "[4_RELU] Estimated Virtual RAM Usage: 0.10 MB\n",
      "\n",
      "[4_RELU] Epoch 0: Loss = 0.8034, Accuracy = 0.4172\n",
      "[4_RELU] Epoch 10: Loss = 0.7342, Accuracy = 0.4172\n",
      "[4_RELU] Epoch 20: Loss = 0.6922, Accuracy = 0.5364\n",
      "[4_RELU] Epoch 30: Loss = 0.6444, Accuracy = 0.5828\n",
      "[4_RELU] Epoch 40: Loss = 0.5833, Accuracy = 0.5894\n",
      "[4_RELU] Epoch 50: Loss = 0.5180, Accuracy = 0.7152\n",
      "[4_RELU] Epoch 60: Loss = 0.4262, Accuracy = 0.8609\n",
      "[4_RELU] Epoch 70: Loss = 0.3567, Accuracy = 0.9007\n",
      "[4_RELU] Epoch 80: Loss = 0.3272, Accuracy = 0.9205\n",
      "[4_RELU] Epoch 90: Loss = 0.3045, Accuracy = 0.9139\n",
      "[4_RELU] Epoch 99: Loss = 0.2854, Accuracy = 0.9139\n",
      "[4_RELU] Final Test Accuracy: 0.9231\n"
     ]
    }
   ],
   "execution_count": 22
  },
  {
   "metadata": {
    "ExecuteTime": {
     "end_time": "2025-05-26T03:22:28.620993Z",
     "start_time": "2025-05-26T03:22:28.562127Z"
    }
   },
   "cell_type": "code",
   "source": "train_model(\"4_sigmoid\", X_train, y_train, X_test, y_test)",
   "id": "8b86c9ba75d36c",
   "outputs": [
    {
     "name": "stdout",
     "output_type": "stream",
     "text": [
      "[4_SIGMOID] Total Learnable Parameters: 1254\n",
      "[4_SIGMOID] Estimated Virtual RAM Usage: 0.10 MB\n",
      "\n",
      "[4_SIGMOID] Epoch 0: Loss = 0.7140, Accuracy = 0.4172\n",
      "[4_SIGMOID] Epoch 10: Loss = 0.6900, Accuracy = 0.5828\n",
      "[4_SIGMOID] Epoch 20: Loss = 0.6827, Accuracy = 0.5828\n",
      "[4_SIGMOID] Epoch 30: Loss = 0.6804, Accuracy = 0.5828\n",
      "[4_SIGMOID] Epoch 40: Loss = 0.6797, Accuracy = 0.5828\n",
      "[4_SIGMOID] Epoch 50: Loss = 0.6795, Accuracy = 0.5828\n",
      "[4_SIGMOID] Epoch 60: Loss = 0.6794, Accuracy = 0.5828\n",
      "[4_SIGMOID] Epoch 70: Loss = 0.6794, Accuracy = 0.5828\n",
      "[4_SIGMOID] Epoch 80: Loss = 0.6794, Accuracy = 0.5828\n",
      "[4_SIGMOID] Epoch 90: Loss = 0.6794, Accuracy = 0.5828\n",
      "[4_SIGMOID] Epoch 99: Loss = 0.6794, Accuracy = 0.5828\n",
      "[4_SIGMOID] Final Test Accuracy: 0.5846\n"
     ]
    }
   ],
   "execution_count": 23
  },
  {
   "metadata": {},
   "cell_type": "markdown",
   "source": "## Congressional Voting Dataset",
   "id": "dad9cc9d9f72a0a8"
  },
  {
   "metadata": {
    "ExecuteTime": {
     "end_time": "2025-05-26T03:21:37.245133Z",
     "start_time": "2025-05-26T03:21:36.748870Z"
    }
   },
   "cell_type": "code",
   "source": [
    "from sklearn.impute import SimpleImputer\n",
    "\n",
    "congressional_voting_training_data_path = 'CongressionalVotingID.csv'\n",
    "df = pd.read_csv(congressional_voting_training_data_path)\n",
    "df.drop(df[np.isin(df['ID'], [184, 249])].index, inplace=True)\n",
    "df.drop(columns=['ID'], inplace=True)"
   ],
   "id": "21f5712706f12272",
   "outputs": [],
   "execution_count": 12
  },
  {
   "metadata": {
    "ExecuteTime": {
     "end_time": "2025-05-26T03:21:37.263082Z",
     "start_time": "2025-05-26T03:21:37.258779Z"
    }
   },
   "cell_type": "code",
   "source": [
    "label_map = {'democrat': 0, 'republican': 1}\n",
    "y = np.array([label_map[val] for val in df[\"class\"]])"
   ],
   "id": "6618304a40347c1c",
   "outputs": [],
   "execution_count": 13
  },
  {
   "metadata": {
    "ExecuteTime": {
     "end_time": "2025-05-26T03:21:37.289866Z",
     "start_time": "2025-05-26T03:21:37.282551Z"
    }
   },
   "cell_type": "code",
   "source": [
    "X = df.drop(\"class\", axis=1).values\n",
    "X = np.where(X == 'unknown', np.nan, X)\n",
    "X = np.where(X == 'y', 1, X)\n",
    "X = np.where(X == 'n', 0, X)"
   ],
   "id": "cc09b41fddbae355",
   "outputs": [],
   "execution_count": 14
  },
  {
   "metadata": {
    "ExecuteTime": {
     "end_time": "2025-05-26T03:21:37.317606Z",
     "start_time": "2025-05-26T03:21:37.309241Z"
    }
   },
   "cell_type": "code",
   "source": [
    "X = SimpleImputer(strategy='most_frequent').fit_transform(X).astype(np.float32)\n",
    "X_train, X_test, y_train, y_test = train_test_split(X, y, test_size=0.3, random_state=42)"
   ],
   "id": "f1a5d8f6329e292d",
   "outputs": [],
   "execution_count": 15
  },
  {
   "metadata": {
    "ExecuteTime": {
     "end_time": "2025-05-26T03:22:33.060622Z",
     "start_time": "2025-05-26T03:22:33.034857Z"
    }
   },
   "cell_type": "code",
   "source": "train_model(\"1_relu\", X_train, y_train, X_test, y_test)",
   "id": "c3336e1b8c2c8656",
   "outputs": [
    {
     "name": "stdout",
     "output_type": "stream",
     "text": [
      "[1_RELU] Total Learnable Parameters: 116\n",
      "[1_RELU] Estimated Virtual RAM Usage: 0.01 MB\n",
      "\n",
      "[1_RELU] Epoch 0: Loss = 0.6847, Accuracy = 0.5828\n",
      "[1_RELU] Epoch 10: Loss = 0.6281, Accuracy = 0.7152\n",
      "[1_RELU] Epoch 20: Loss = 0.5670, Accuracy = 0.8146\n",
      "[1_RELU] Epoch 30: Loss = 0.4947, Accuracy = 0.9205\n",
      "[1_RELU] Epoch 40: Loss = 0.4193, Accuracy = 0.9404\n",
      "[1_RELU] Epoch 50: Loss = 0.3513, Accuracy = 0.9338\n",
      "[1_RELU] Epoch 60: Loss = 0.2977, Accuracy = 0.9338\n",
      "[1_RELU] Epoch 70: Loss = 0.2594, Accuracy = 0.9338\n",
      "[1_RELU] Epoch 80: Loss = 0.2326, Accuracy = 0.9338\n",
      "[1_RELU] Epoch 90: Loss = 0.2134, Accuracy = 0.9338\n",
      "[1_RELU] Epoch 99: Loss = 0.2007, Accuracy = 0.9404\n",
      "[1_RELU] Final Test Accuracy: 0.9231\n"
     ]
    }
   ],
   "execution_count": 24
  },
  {
   "metadata": {
    "ExecuteTime": {
     "end_time": "2025-05-26T03:22:35.463131Z",
     "start_time": "2025-05-26T03:22:35.436377Z"
    }
   },
   "cell_type": "code",
   "source": "train_model(\"1_sigmoid\", X_train, y_train, X_test, y_test)",
   "id": "3c233ef262aa18f4",
   "outputs": [
    {
     "name": "stdout",
     "output_type": "stream",
     "text": [
      "[1_SIGMOID] Total Learnable Parameters: 116\n",
      "[1_SIGMOID] Estimated Virtual RAM Usage: 0.01 MB\n",
      "\n",
      "[1_SIGMOID] Epoch 0: Loss = 0.6838, Accuracy = 0.5828\n",
      "[1_SIGMOID] Epoch 10: Loss = 0.6771, Accuracy = 0.5828\n",
      "[1_SIGMOID] Epoch 20: Loss = 0.6735, Accuracy = 0.5828\n",
      "[1_SIGMOID] Epoch 30: Loss = 0.6703, Accuracy = 0.5828\n",
      "[1_SIGMOID] Epoch 40: Loss = 0.6669, Accuracy = 0.5828\n",
      "[1_SIGMOID] Epoch 50: Loss = 0.6634, Accuracy = 0.5828\n",
      "[1_SIGMOID] Epoch 60: Loss = 0.6596, Accuracy = 0.5828\n",
      "[1_SIGMOID] Epoch 70: Loss = 0.6554, Accuracy = 0.5828\n",
      "[1_SIGMOID] Epoch 80: Loss = 0.6508, Accuracy = 0.5828\n",
      "[1_SIGMOID] Epoch 90: Loss = 0.6457, Accuracy = 0.5828\n",
      "[1_SIGMOID] Epoch 99: Loss = 0.6405, Accuracy = 0.5828\n",
      "[1_SIGMOID] Final Test Accuracy: 0.5846\n"
     ]
    }
   ],
   "execution_count": 25
  },
  {
   "metadata": {
    "ExecuteTime": {
     "end_time": "2025-05-26T03:22:37.969389Z",
     "start_time": "2025-05-26T03:22:37.930713Z"
    }
   },
   "cell_type": "code",
   "source": "train_model(\"4_relu\", X_train, y_train, X_test, y_test)",
   "id": "2665dd24c072d523",
   "outputs": [
    {
     "name": "stdout",
     "output_type": "stream",
     "text": [
      "[4_RELU] Total Learnable Parameters: 1254\n",
      "[4_RELU] Estimated Virtual RAM Usage: 0.10 MB\n",
      "\n",
      "[4_RELU] Epoch 0: Loss = 0.6860, Accuracy = 0.5828\n",
      "[4_RELU] Epoch 10: Loss = 0.6815, Accuracy = 0.5828\n",
      "[4_RELU] Epoch 20: Loss = 0.6699, Accuracy = 0.5828\n",
      "[4_RELU] Epoch 30: Loss = 0.6120, Accuracy = 0.7616\n",
      "[4_RELU] Epoch 40: Loss = 0.4724, Accuracy = 0.8874\n",
      "[4_RELU] Epoch 50: Loss = 0.3294, Accuracy = 0.9272\n",
      "[4_RELU] Epoch 60: Loss = 0.2139, Accuracy = 0.9404\n",
      "[4_RELU] Epoch 70: Loss = 0.1592, Accuracy = 0.9470\n",
      "[4_RELU] Epoch 80: Loss = 0.1304, Accuracy = 0.9470\n",
      "[4_RELU] Epoch 90: Loss = 0.1120, Accuracy = 0.9603\n",
      "[4_RELU] Epoch 99: Loss = 0.0995, Accuracy = 0.9669\n",
      "[4_RELU] Final Test Accuracy: 0.9692\n"
     ]
    }
   ],
   "execution_count": 26
  },
  {
   "metadata": {
    "ExecuteTime": {
     "end_time": "2025-05-26T03:22:44.923332Z",
     "start_time": "2025-05-26T03:22:44.859052Z"
    }
   },
   "cell_type": "code",
   "source": "train_model(\"4_sigmoid\", X_train, y_train, X_test, y_test)",
   "id": "ee20180df77d1db4",
   "outputs": [
    {
     "name": "stdout",
     "output_type": "stream",
     "text": [
      "[4_SIGMOID] Total Learnable Parameters: 1254\n",
      "[4_SIGMOID] Estimated Virtual RAM Usage: 0.10 MB\n",
      "\n",
      "[4_SIGMOID] Epoch 0: Loss = 0.6803, Accuracy = 0.5828\n",
      "[4_SIGMOID] Epoch 10: Loss = 0.6796, Accuracy = 0.5828\n",
      "[4_SIGMOID] Epoch 20: Loss = 0.6795, Accuracy = 0.5828\n",
      "[4_SIGMOID] Epoch 30: Loss = 0.6794, Accuracy = 0.5828\n",
      "[4_SIGMOID] Epoch 40: Loss = 0.6794, Accuracy = 0.5828\n",
      "[4_SIGMOID] Epoch 50: Loss = 0.6794, Accuracy = 0.5828\n",
      "[4_SIGMOID] Epoch 60: Loss = 0.6794, Accuracy = 0.5828\n",
      "[4_SIGMOID] Epoch 70: Loss = 0.6794, Accuracy = 0.5828\n",
      "[4_SIGMOID] Epoch 80: Loss = 0.6794, Accuracy = 0.5828\n",
      "[4_SIGMOID] Epoch 90: Loss = 0.6794, Accuracy = 0.5828\n",
      "[4_SIGMOID] Epoch 99: Loss = 0.6794, Accuracy = 0.5828\n",
      "[4_SIGMOID] Final Test Accuracy: 0.5846\n"
     ]
    }
   ],
   "execution_count": 27
  },
  {
   "metadata": {},
   "cell_type": "markdown",
   "source": "## Lastly we'll look at grid-search for the best parameters for the congressional voting dataset. ",
   "id": "39cc58d3d2f2a99d"
  },
  {
   "metadata": {
    "ExecuteTime": {
     "end_time": "2025-05-26T03:24:45.426420Z",
     "start_time": "2025-05-26T03:24:45.420884Z"
    }
   },
   "cell_type": "code",
   "source": [
    "def build_custom_nn(layer_config, input_dim):\n",
    "    nn = NeuralNetwork()\n",
    "    current_input_dim = input_dim\n",
    "    for out_dim, activation in layer_config:\n",
    "        nn.add_layer(current_input_dim, out_dim, activation)\n",
    "        current_input_dim = out_dim\n",
    "    return nn"
   ],
   "id": "1b6c0f37299b6e94",
   "outputs": [],
   "execution_count": 28
  },
  {
   "metadata": {
    "ExecuteTime": {
     "end_time": "2025-05-26T03:28:25.089791Z",
     "start_time": "2025-05-26T03:28:25.081164Z"
    }
   },
   "cell_type": "code",
   "source": [
    "from itertools import product\n",
    "\n",
    "def grid_search_custom(X_train, y_train, X_test, y_test):\n",
    "    architectures = {\n",
    "        \"shallow_relu\": [(16, \"relu\"), (2, \"softmax\")],\n",
    "        \"deep_relu\": [(64, \"relu\"), (32, \"relu\"), (16, \"relu\"), (8, \"relu\"), (2, \"softmax\")],\n",
    "        \"wide_sigmoid\": [(128, \"sigmoid\"), (64, \"sigmoid\"), (2, \"softmax\")],\n",
    "        \"bottleneck\": [(32, \"relu\"), (8, \"relu\"), (32, \"relu\"), (2, \"softmax\")],\n",
    "        \"minimal\": [(2, \"sigmoid\"), (2, \"softmax\")]\n",
    "    }\n",
    "    learning_rates = [0.01, 0.05]\n",
    "    epochs_list = [50, 100]\n",
    "\n",
    "    results = []\n",
    "\n",
    "    for (arch_name, layers), lr, epochs in product(architectures.items(), learning_rates, epochs_list):\n",
    "        print(f\"\\nRunning model={arch_name}, lr={lr}, epochs={epochs}\")\n",
    "        nn = build_custom_nn(layers, input_dim=X_train.shape[1])\n",
    "\n",
    "        for epoch in range(epochs):\n",
    "            y_pred = nn.forward(X_train)\n",
    "            loss = LossFunction.categorical_cross_entropy(y_pred, y_train)\n",
    "            grad = LossFunction.categorical_cross_entropy_derivative(y_pred, y_train)\n",
    "            nn.backward(grad, learning_rate=lr)\n",
    "\n",
    "        y_test_pred = nn.forward(X_test)\n",
    "        acc_test = np.mean(np.argmax(y_test_pred, axis=1) == y_test)\n",
    "        print(f\"[{arch_name}] Test Accuracy = {acc_test:.4f}\")\n",
    "\n",
    "        total_params, ram_mb = analyze_model(nn, input_dim=X_train.shape[1], batch_size=X_train.shape[0])\n",
    "        results.append({\n",
    "            'model': arch_name,\n",
    "            'learning_rate': lr,\n",
    "            'epochs': epochs,\n",
    "            'test_accuracy': acc_test,\n",
    "            'total_params': total_params,\n",
    "            'estimated_ram_mb': round(ram_mb, 2)\n",
    "        })\n",
    "\n",
    "    results.sort(key=lambda x: x['test_accuracy'], reverse=True)\n",
    "    print(\"\\nTop 3 Configurations:\")\n",
    "    for r in results[:3]:\n",
    "        print(f\"Model: {r['model']:<12} | LR: {r['learning_rate']:.3f} | Epochs: {r['epochs']:>3} | \"\n",
    "              f\"Accuracy: {r['test_accuracy']*100:.2f}% | Params: {r['total_params']:>5} | \"\n",
    "              f\"RAM: {r['estimated_ram_mb']:.2f} MB\")\n",
    "\n",
    "    return results"
   ],
   "id": "125299e22e128505",
   "outputs": [],
   "execution_count": 32
  },
  {
   "metadata": {
    "ExecuteTime": {
     "end_time": "2025-05-26T03:28:25.525382Z",
     "start_time": "2025-05-26T03:28:25.519411Z"
    }
   },
   "cell_type": "code",
   "source": [
    "architectures = {\n",
    "    \"shallow_relu\": [(16, \"relu\"), (2, \"softmax\")],\n",
    "    \"deep_relu\": [(64, \"relu\"), (32, \"relu\"), (16, \"relu\"), (8, \"relu\"), (2, \"softmax\")],\n",
    "    \"wide_sigmoid\": [(128, \"sigmoid\"), (64, \"sigmoid\"), (2, \"softmax\")],\n",
    "    \"bottleneck\": [(32, \"relu\"), (8, \"relu\"), (32, \"relu\"), (2, \"softmax\")],\n",
    "    \"minimal\": [(2, \"sigmoid\"), (2, \"softmax\")]\n",
    "}\n",
    "learning_rates = [0.01, 0.05]\n",
    "epochs_list = [50, 100]"
   ],
   "id": "fd8434da54d9fb56",
   "outputs": [],
   "execution_count": 33
  },
  {
   "metadata": {
    "ExecuteTime": {
     "end_time": "2025-05-26T03:28:26.697341Z",
     "start_time": "2025-05-26T03:28:25.997237Z"
    }
   },
   "cell_type": "code",
   "source": "results = grid_search_custom(X_train, y_train, X_test, y_test)",
   "id": "3f314eca2acbc1c0",
   "outputs": [
    {
     "name": "stdout",
     "output_type": "stream",
     "text": [
      "\n",
      "Running model=shallow_relu, lr=0.01, epochs=50\n",
      "[shallow_relu] Test Accuracy = 0.9538\n",
      "\n",
      "Running model=shallow_relu, lr=0.01, epochs=100\n",
      "[shallow_relu] Test Accuracy = 0.9231\n",
      "\n",
      "Running model=shallow_relu, lr=0.05, epochs=50\n",
      "[shallow_relu] Test Accuracy = 0.9385\n",
      "\n",
      "Running model=shallow_relu, lr=0.05, epochs=100\n",
      "[shallow_relu] Test Accuracy = 0.9231\n",
      "\n",
      "Running model=deep_relu, lr=0.01, epochs=50\n",
      "[deep_relu] Test Accuracy = 0.8923\n",
      "\n",
      "Running model=deep_relu, lr=0.01, epochs=100\n",
      "[deep_relu] Test Accuracy = 0.7692\n",
      "\n",
      "Running model=deep_relu, lr=0.05, epochs=50\n",
      "[deep_relu] Test Accuracy = 0.9692\n",
      "\n",
      "Running model=deep_relu, lr=0.05, epochs=100\n",
      "[deep_relu] Test Accuracy = 0.9846\n",
      "\n",
      "Running model=wide_sigmoid, lr=0.01, epochs=50\n",
      "[wide_sigmoid] Test Accuracy = 0.5846\n",
      "\n",
      "Running model=wide_sigmoid, lr=0.01, epochs=100\n",
      "[wide_sigmoid] Test Accuracy = 0.5846\n",
      "\n",
      "Running model=wide_sigmoid, lr=0.05, epochs=50\n",
      "[wide_sigmoid] Test Accuracy = 0.5846\n",
      "\n",
      "Running model=wide_sigmoid, lr=0.05, epochs=100\n",
      "[wide_sigmoid] Test Accuracy = 0.5846\n",
      "\n",
      "Running model=bottleneck, lr=0.01, epochs=50\n",
      "[bottleneck] Test Accuracy = 0.9385\n",
      "\n",
      "Running model=bottleneck, lr=0.01, epochs=100\n",
      "[bottleneck] Test Accuracy = 0.8923\n",
      "\n",
      "Running model=bottleneck, lr=0.05, epochs=50\n",
      "[bottleneck] Test Accuracy = 0.9077\n",
      "\n",
      "Running model=bottleneck, lr=0.05, epochs=100\n",
      "[bottleneck] Test Accuracy = 1.0000\n",
      "\n",
      "Running model=minimal, lr=0.01, epochs=50\n",
      "[minimal] Test Accuracy = 0.5846\n",
      "\n",
      "Running model=minimal, lr=0.01, epochs=100\n",
      "[minimal] Test Accuracy = 0.5846\n",
      "\n",
      "Running model=minimal, lr=0.05, epochs=50\n",
      "[minimal] Test Accuracy = 0.5846\n",
      "\n",
      "Running model=minimal, lr=0.05, epochs=100\n",
      "[minimal] Test Accuracy = 0.5846\n",
      "\n",
      "Top 3 Configurations:\n",
      "Model: bottleneck   | LR: 0.050 | Epochs: 100 | Accuracy: 100.00% | Params:  1162 | RAM: 5.57 MB\n",
      "Model: deep_relu    | LR: 0.050 | Epochs: 100 | Accuracy: 98.46% | Params:  3850 | RAM: 9.22 MB\n",
      "Model: deep_relu    | LR: 0.050 | Epochs:  50 | Accuracy: 96.92% | Params:  3850 | RAM: 9.22 MB\n"
     ]
    }
   ],
   "execution_count": 34
  },
  {
   "metadata": {},
   "cell_type": "code",
   "outputs": [],
   "execution_count": null,
   "source": "",
   "id": "d9c3939c078934fc"
  }
 ],
 "metadata": {
  "kernelspec": {
   "display_name": "Python 3",
   "language": "python",
   "name": "python3"
  },
  "language_info": {
   "codemirror_mode": {
    "name": "ipython",
    "version": 2
   },
   "file_extension": ".py",
   "mimetype": "text/x-python",
   "name": "python",
   "nbconvert_exporter": "python",
   "pygments_lexer": "ipython2",
   "version": "2.7.6"
  }
 },
 "nbformat": 4,
 "nbformat_minor": 5
}
