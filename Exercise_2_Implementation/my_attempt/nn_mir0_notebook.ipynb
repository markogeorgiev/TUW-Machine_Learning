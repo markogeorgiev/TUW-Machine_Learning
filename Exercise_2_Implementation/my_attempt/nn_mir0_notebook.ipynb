{
 "cells": [
  {
   "metadata": {},
   "cell_type": "markdown",
   "source": [
    "This notebook test the NN from scratch implementation of our group on two dataset. \n",
    "- We test on the Student Academic Success and \n",
    "- Congressional Voting "
   ],
   "id": "47ef88c07e04050a"
  },
  {
   "metadata": {
    "ExecuteTime": {
     "end_time": "2025-05-25T13:58:29.783950Z",
     "start_time": "2025-05-25T13:58:29.777218Z"
    }
   },
   "cell_type": "code",
   "source": [
    "def build_nn(model_type, input_dim, output_dim):\n",
    "    nn = NeuralNetwork()\n",
    "\n",
    "    if model_type == \"1_relu\":\n",
    "        nn.add_layer(input_dim, 6, \"relu\")\n",
    "        nn.add_layer(6, output_dim, \"softmax\")\n",
    "\n",
    "    elif model_type == \"1_sigmoid\":\n",
    "        nn.add_layer(input_dim, 6, \"sigmoid\")\n",
    "        nn.add_layer(6, output_dim, \"softmax\")\n",
    "\n",
    "    elif model_type == \"4_relu\":\n",
    "        nn.add_layer(input_dim, 32, \"relu\")\n",
    "        nn.add_layer(32, 16, \"relu\")\n",
    "        nn.add_layer(16, 8, \"relu\")\n",
    "        nn.add_layer(8, 4, \"relu\")\n",
    "        nn.add_layer(4, output_dim, \"softmax\")\n",
    "\n",
    "    elif model_type == \"4_sigmoid\":\n",
    "        nn.add_layer(input_dim, 32, \"sigmoid\")\n",
    "        nn.add_layer(32, 16, \"sigmoid\")\n",
    "        nn.add_layer(16, 8, \"sigmoid\")\n",
    "        nn.add_layer(8, 4, \"sigmoid\")\n",
    "        nn.add_layer(4, output_dim, \"softmax\")\n",
    "\n",
    "    return nn"
   ],
   "id": "63aa0e616b385d7d",
   "outputs": [],
   "execution_count": 1
  },
  {
   "metadata": {
    "ExecuteTime": {
     "end_time": "2025-05-25T13:58:29.795045Z",
     "start_time": "2025-05-25T13:58:29.790148Z"
    }
   },
   "cell_type": "code",
   "source": [
    "def train_model(model_name, X_train, y_train, X_test, y_test, epochs=100, lr=0.05):\n",
    "    nn = build_nn(model_name, input_dim=X_train.shape[1], output_dim=len(np.unique(y_train)))\n",
    "\n",
    "    for epoch in range(epochs):\n",
    "        y_pred = nn.forward(X_train)\n",
    "        loss = LossFunction.categorical_cross_entropy(y_pred, y_train)\n",
    "        grad = LossFunction.categorical_cross_entropy_derivative(y_pred, y_train)\n",
    "        nn.backward(grad, learning_rate=lr)\n",
    "\n",
    "        if epoch % 10 == 0 or epoch == epochs - 1:\n",
    "            acc = np.mean(np.argmax(y_pred, axis=1) == y_train)\n",
    "            print(f\"[{model_name.upper()}] Epoch {epoch}: Loss = {loss:.4f}, Accuracy = {acc:.4f}\")\n",
    "\n",
    "    y_test_pred = nn.forward(X_test)\n",
    "    acc_test = np.mean(np.argmax(y_test_pred, axis=1) == y_test)\n",
    "    print(f\"[{model_name.upper()}] Final Test Accuracy: {acc_test:.4f}\")"
   ],
   "id": "2f5cc3a887f582ae",
   "outputs": [],
   "execution_count": 2
  },
  {
   "metadata": {},
   "cell_type": "markdown",
   "source": "## Student Dropout Dataset",
   "id": "13be0bd6dfdf389c"
  },
  {
   "metadata": {
    "ExecuteTime": {
     "end_time": "2025-05-25T14:00:50.964382Z",
     "start_time": "2025-05-25T14:00:50.960281Z"
    }
   },
   "cell_type": "code",
   "source": [
    "import numpy as np\n",
    "import pandas as pd\n",
    "from sklearn.model_selection import train_test_split\n",
    "from sklearn.preprocessing import StandardScaler\n",
    "from nn_mir0 import NeuralNetwork, LossFunction"
   ],
   "id": "69abf57eef630405",
   "outputs": [],
   "execution_count": 13
  },
  {
   "metadata": {
    "ExecuteTime": {
     "end_time": "2025-05-25T14:00:51.349300Z",
     "start_time": "2025-05-25T14:00:51.324106Z"
    }
   },
   "cell_type": "code",
   "source": [
    "students_success_data_path = 'student_droupout_data.csv'\n",
    "df = pd.read_csv(students_success_data_path, sep=';')\n",
    "label_map = {'Dropout': 0, 'Enrolled': 1, 'Graduate': 2}"
   ],
   "id": "de24f5ee8dbe3d68",
   "outputs": [],
   "execution_count": 14
  },
  {
   "metadata": {
    "ExecuteTime": {
     "end_time": "2025-05-25T14:00:51.664738Z",
     "start_time": "2025-05-25T14:00:51.656382Z"
    }
   },
   "cell_type": "code",
   "source": [
    "X = df.drop(\"Target\", axis=1).values\n",
    "y = np.array([label_map[label] for label in df[\"Target\"]])"
   ],
   "id": "9710476d2240c66a",
   "outputs": [],
   "execution_count": 15
  },
  {
   "metadata": {
    "ExecuteTime": {
     "end_time": "2025-05-25T14:00:52.061068Z",
     "start_time": "2025-05-25T14:00:52.051007Z"
    }
   },
   "cell_type": "code",
   "source": [
    "X = StandardScaler().fit_transform(X)\n",
    "X_train, X_test, y_train, y_test = train_test_split(X, y, test_size=0.3, random_state=42)"
   ],
   "id": "e423ed4079cdda18",
   "outputs": [],
   "execution_count": 16
  },
  {
   "metadata": {
    "ExecuteTime": {
     "end_time": "2025-05-25T14:00:54.995399Z",
     "start_time": "2025-05-25T14:00:54.793955Z"
    }
   },
   "cell_type": "code",
   "source": "train_model(\"1_relu\", X_train, y_train, X_test, y_test)",
   "id": "1ddbad18b1217250",
   "outputs": [
    {
     "name": "stdout",
     "output_type": "stream",
     "text": [
      "[1_RELU] Epoch 0: Loss = 1.1060, Accuracy = 0.1999\n",
      "[1_RELU] Epoch 10: Loss = 1.0373, Accuracy = 0.5155\n",
      "[1_RELU] Epoch 20: Loss = 0.9994, Accuracy = 0.5404\n",
      "[1_RELU] Epoch 30: Loss = 0.9728, Accuracy = 0.5640\n",
      "[1_RELU] Epoch 40: Loss = 0.9500, Accuracy = 0.5762\n",
      "[1_RELU] Epoch 50: Loss = 0.9284, Accuracy = 0.5904\n",
      "[1_RELU] Epoch 60: Loss = 0.9071, Accuracy = 0.6072\n",
      "[1_RELU] Epoch 70: Loss = 0.8862, Accuracy = 0.6153\n",
      "[1_RELU] Epoch 80: Loss = 0.8660, Accuracy = 0.6295\n",
      "[1_RELU] Epoch 90: Loss = 0.8468, Accuracy = 0.6460\n",
      "[1_RELU] Epoch 99: Loss = 0.8303, Accuracy = 0.6583\n",
      "[1_RELU] Final Test Accuracy: 0.6461\n"
     ]
    }
   ],
   "execution_count": 17
  },
  {
   "metadata": {
    "ExecuteTime": {
     "end_time": "2025-05-25T14:00:56.120705Z",
     "start_time": "2025-05-25T14:00:55.923478Z"
    }
   },
   "cell_type": "code",
   "source": "train_model(\"1_sigmoid\", X_train, y_train, X_test, y_test)",
   "id": "67f012e95122a07d",
   "outputs": [
    {
     "name": "stdout",
     "output_type": "stream",
     "text": [
      "[1_SIGMOID] Epoch 0: Loss = 1.0964, Accuracy = 0.4945\n",
      "[1_SIGMOID] Epoch 10: Loss = 1.0496, Accuracy = 0.5061\n",
      "[1_SIGMOID] Epoch 20: Loss = 1.0288, Accuracy = 0.5061\n",
      "[1_SIGMOID] Epoch 30: Loss = 1.0188, Accuracy = 0.5061\n",
      "[1_SIGMOID] Epoch 40: Loss = 1.0133, Accuracy = 0.5061\n",
      "[1_SIGMOID] Epoch 50: Loss = 1.0097, Accuracy = 0.5061\n",
      "[1_SIGMOID] Epoch 60: Loss = 1.0070, Accuracy = 0.5061\n",
      "[1_SIGMOID] Epoch 70: Loss = 1.0045, Accuracy = 0.5061\n",
      "[1_SIGMOID] Epoch 80: Loss = 1.0020, Accuracy = 0.5061\n",
      "[1_SIGMOID] Epoch 90: Loss = 0.9994, Accuracy = 0.5061\n",
      "[1_SIGMOID] Epoch 99: Loss = 0.9970, Accuracy = 0.5061\n",
      "[1_SIGMOID] Final Test Accuracy: 0.4834\n"
     ]
    }
   ],
   "execution_count": 18
  },
  {
   "metadata": {
    "ExecuteTime": {
     "end_time": "2025-05-25T14:00:57.751243Z",
     "start_time": "2025-05-25T14:00:57.284096Z"
    }
   },
   "cell_type": "code",
   "source": "train_model(\"4_relu\", X_train, y_train, X_test, y_test)",
   "id": "80e534ab56950a08",
   "outputs": [
    {
     "name": "stdout",
     "output_type": "stream",
     "text": [
      "[4_RELU] Epoch 0: Loss = 1.1017, Accuracy = 0.2894\n",
      "[4_RELU] Epoch 10: Loss = 1.0624, Accuracy = 0.5061\n",
      "[4_RELU] Epoch 20: Loss = 1.0407, Accuracy = 0.5036\n",
      "[4_RELU] Epoch 30: Loss = 1.0264, Accuracy = 0.5113\n",
      "[4_RELU] Epoch 40: Loss = 1.0144, Accuracy = 0.5478\n",
      "[4_RELU] Epoch 50: Loss = 1.0010, Accuracy = 0.5933\n",
      "[4_RELU] Epoch 60: Loss = 0.9832, Accuracy = 0.6250\n",
      "[4_RELU] Epoch 70: Loss = 0.9582, Accuracy = 0.6444\n",
      "[4_RELU] Epoch 80: Loss = 0.9259, Accuracy = 0.6631\n",
      "[4_RELU] Epoch 90: Loss = 0.8899, Accuracy = 0.6812\n",
      "[4_RELU] Epoch 99: Loss = 0.8587, Accuracy = 0.6925\n",
      "[4_RELU] Final Test Accuracy: 0.6694\n"
     ]
    }
   ],
   "execution_count": 19
  },
  {
   "metadata": {
    "ExecuteTime": {
     "end_time": "2025-05-25T14:00:59.068746Z",
     "start_time": "2025-05-25T14:00:58.369889Z"
    }
   },
   "cell_type": "code",
   "source": "train_model(\"4_sigmoid\", X_train, y_train, X_test, y_test)",
   "id": "8b86c9ba75d36c",
   "outputs": [
    {
     "name": "stdout",
     "output_type": "stream",
     "text": [
      "[4_SIGMOID] Epoch 0: Loss = 1.1009, Accuracy = 0.1773\n",
      "[4_SIGMOID] Epoch 10: Loss = 1.0619, Accuracy = 0.5061\n",
      "[4_SIGMOID] Epoch 20: Loss = 1.0410, Accuracy = 0.5061\n",
      "[4_SIGMOID] Epoch 30: Loss = 1.0298, Accuracy = 0.5061\n",
      "[4_SIGMOID] Epoch 40: Loss = 1.0237, Accuracy = 0.5061\n",
      "[4_SIGMOID] Epoch 50: Loss = 1.0203, Accuracy = 0.5061\n",
      "[4_SIGMOID] Epoch 60: Loss = 1.0184, Accuracy = 0.5061\n",
      "[4_SIGMOID] Epoch 70: Loss = 1.0173, Accuracy = 0.5061\n",
      "[4_SIGMOID] Epoch 80: Loss = 1.0166, Accuracy = 0.5061\n",
      "[4_SIGMOID] Epoch 90: Loss = 1.0162, Accuracy = 0.5061\n",
      "[4_SIGMOID] Epoch 99: Loss = 1.0159, Accuracy = 0.5061\n",
      "[4_SIGMOID] Final Test Accuracy: 0.4834\n"
     ]
    }
   ],
   "execution_count": 20
  },
  {
   "metadata": {},
   "cell_type": "markdown",
   "source": "## Congressional Voting Dataset",
   "id": "dad9cc9d9f72a0a8"
  },
  {
   "metadata": {
    "ExecuteTime": {
     "end_time": "2025-05-25T14:02:02.176273Z",
     "start_time": "2025-05-25T14:02:02.167737Z"
    }
   },
   "cell_type": "code",
   "source": [
    "from sklearn.impute import SimpleImputer\n",
    "\n",
    "congressional_voting_training_data_path = 'CongressionalVotingID.csv'\n",
    "df = pd.read_csv(congressional_voting_training_data_path)\n",
    "df.drop(df[np.isin(df['ID'], [184, 249])].index, inplace=True)\n",
    "df.drop(columns=['ID'], inplace=True)"
   ],
   "id": "21f5712706f12272",
   "outputs": [],
   "execution_count": 21
  },
  {
   "metadata": {
    "ExecuteTime": {
     "end_time": "2025-05-25T14:02:02.449292Z",
     "start_time": "2025-05-25T14:02:02.445122Z"
    }
   },
   "cell_type": "code",
   "source": [
    "label_map = {'democrat': 0, 'republican': 1}\n",
    "y = np.array([label_map[val] for val in df[\"class\"]])"
   ],
   "id": "6618304a40347c1c",
   "outputs": [],
   "execution_count": 22
  },
  {
   "metadata": {
    "ExecuteTime": {
     "end_time": "2025-05-25T14:02:02.664746Z",
     "start_time": "2025-05-25T14:02:02.658486Z"
    }
   },
   "cell_type": "code",
   "source": [
    "X = df.drop(\"class\", axis=1).values\n",
    "X = np.where(X == 'unknown', np.nan, X)\n",
    "X = np.where(X == 'y', 1, X)\n",
    "X = np.where(X == 'n', 0, X)"
   ],
   "id": "cc09b41fddbae355",
   "outputs": [],
   "execution_count": 23
  },
  {
   "metadata": {
    "ExecuteTime": {
     "end_time": "2025-05-25T14:02:03.158449Z",
     "start_time": "2025-05-25T14:02:03.149982Z"
    }
   },
   "cell_type": "code",
   "source": [
    "X = SimpleImputer(strategy='most_frequent').fit_transform(X).astype(np.float32)\n",
    "X_train, X_test, y_train, y_test = train_test_split(X, y, test_size=0.3, random_state=42)"
   ],
   "id": "f1a5d8f6329e292d",
   "outputs": [],
   "execution_count": 24
  },
  {
   "metadata": {
    "ExecuteTime": {
     "end_time": "2025-05-25T14:02:03.484945Z",
     "start_time": "2025-05-25T14:02:03.462346Z"
    }
   },
   "cell_type": "code",
   "source": "train_model(\"1_relu\", X_train, y_train, X_test, y_test)",
   "id": "c3336e1b8c2c8656",
   "outputs": [
    {
     "name": "stdout",
     "output_type": "stream",
     "text": [
      "[1_RELU] Epoch 0: Loss = 0.6956, Accuracy = 0.2715\n",
      "[1_RELU] Epoch 10: Loss = 0.6162, Accuracy = 0.8808\n",
      "[1_RELU] Epoch 20: Loss = 0.5340, Accuracy = 0.8940\n",
      "[1_RELU] Epoch 30: Loss = 0.4470, Accuracy = 0.9073\n",
      "[1_RELU] Epoch 40: Loss = 0.3712, Accuracy = 0.9139\n",
      "[1_RELU] Epoch 50: Loss = 0.3154, Accuracy = 0.9205\n",
      "[1_RELU] Epoch 60: Loss = 0.2746, Accuracy = 0.9205\n",
      "[1_RELU] Epoch 70: Loss = 0.2464, Accuracy = 0.9205\n",
      "[1_RELU] Epoch 80: Loss = 0.2270, Accuracy = 0.9272\n",
      "[1_RELU] Epoch 90: Loss = 0.2128, Accuracy = 0.9272\n",
      "[1_RELU] Epoch 99: Loss = 0.2029, Accuracy = 0.9338\n",
      "[1_RELU] Final Test Accuracy: 0.9692\n"
     ]
    }
   ],
   "execution_count": 25
  },
  {
   "metadata": {
    "ExecuteTime": {
     "end_time": "2025-05-25T14:02:03.818389Z",
     "start_time": "2025-05-25T14:02:03.793705Z"
    }
   },
   "cell_type": "code",
   "source": "train_model(\"1_sigmoid\", X_train, y_train, X_test, y_test)",
   "id": "3c233ef262aa18f4",
   "outputs": [
    {
     "name": "stdout",
     "output_type": "stream",
     "text": [
      "[1_SIGMOID] Epoch 0: Loss = 0.6916, Accuracy = 0.8543\n",
      "[1_SIGMOID] Epoch 10: Loss = 0.6749, Accuracy = 0.5828\n",
      "[1_SIGMOID] Epoch 20: Loss = 0.6655, Accuracy = 0.5828\n",
      "[1_SIGMOID] Epoch 30: Loss = 0.6580, Accuracy = 0.5828\n",
      "[1_SIGMOID] Epoch 40: Loss = 0.6507, Accuracy = 0.5828\n",
      "[1_SIGMOID] Epoch 50: Loss = 0.6432, Accuracy = 0.5828\n",
      "[1_SIGMOID] Epoch 60: Loss = 0.6351, Accuracy = 0.5828\n",
      "[1_SIGMOID] Epoch 70: Loss = 0.6262, Accuracy = 0.5828\n",
      "[1_SIGMOID] Epoch 80: Loss = 0.6166, Accuracy = 0.5828\n",
      "[1_SIGMOID] Epoch 90: Loss = 0.6061, Accuracy = 0.5828\n",
      "[1_SIGMOID] Epoch 99: Loss = 0.5958, Accuracy = 0.5828\n",
      "[1_SIGMOID] Final Test Accuracy: 0.5846\n"
     ]
    }
   ],
   "execution_count": 26
  },
  {
   "metadata": {
    "ExecuteTime": {
     "end_time": "2025-05-25T14:02:04.175059Z",
     "start_time": "2025-05-25T14:02:04.128943Z"
    }
   },
   "cell_type": "code",
   "source": "train_model(\"4_relu\", X_train, y_train, X_test, y_test)",
   "id": "2665dd24c072d523",
   "outputs": [
    {
     "name": "stdout",
     "output_type": "stream",
     "text": [
      "[4_RELU] Epoch 0: Loss = 0.6933, Accuracy = 0.5232\n",
      "[4_RELU] Epoch 10: Loss = 0.6863, Accuracy = 0.5828\n",
      "[4_RELU] Epoch 20: Loss = 0.6804, Accuracy = 0.5828\n",
      "[4_RELU] Epoch 30: Loss = 0.6730, Accuracy = 0.5828\n",
      "[4_RELU] Epoch 40: Loss = 0.6596, Accuracy = 0.6225\n",
      "[4_RELU] Epoch 50: Loss = 0.6326, Accuracy = 0.8013\n",
      "[4_RELU] Epoch 60: Loss = 0.5781, Accuracy = 0.9007\n",
      "[4_RELU] Epoch 70: Loss = 0.5050, Accuracy = 0.9007\n",
      "[4_RELU] Epoch 80: Loss = 0.4396, Accuracy = 0.9007\n",
      "[4_RELU] Epoch 90: Loss = 0.3893, Accuracy = 0.9007\n",
      "[4_RELU] Epoch 99: Loss = 0.3519, Accuracy = 0.9073\n",
      "[4_RELU] Final Test Accuracy: 0.8923\n"
     ]
    }
   ],
   "execution_count": 27
  },
  {
   "metadata": {
    "ExecuteTime": {
     "end_time": "2025-05-25T14:02:04.873024Z",
     "start_time": "2025-05-25T14:02:04.812511Z"
    }
   },
   "cell_type": "code",
   "source": "train_model(\"4_sigmoid\", X_train, y_train, X_test, y_test)",
   "id": "ee20180df77d1db4",
   "outputs": [
    {
     "name": "stdout",
     "output_type": "stream",
     "text": [
      "[4_SIGMOID] Epoch 0: Loss = 0.6928, Accuracy = 0.5828\n",
      "[4_SIGMOID] Epoch 10: Loss = 0.6844, Accuracy = 0.5828\n",
      "[4_SIGMOID] Epoch 20: Loss = 0.6813, Accuracy = 0.5828\n",
      "[4_SIGMOID] Epoch 30: Loss = 0.6801, Accuracy = 0.5828\n",
      "[4_SIGMOID] Epoch 40: Loss = 0.6796, Accuracy = 0.5828\n",
      "[4_SIGMOID] Epoch 50: Loss = 0.6794, Accuracy = 0.5828\n",
      "[4_SIGMOID] Epoch 60: Loss = 0.6794, Accuracy = 0.5828\n",
      "[4_SIGMOID] Epoch 70: Loss = 0.6794, Accuracy = 0.5828\n",
      "[4_SIGMOID] Epoch 80: Loss = 0.6793, Accuracy = 0.5828\n",
      "[4_SIGMOID] Epoch 90: Loss = 0.6793, Accuracy = 0.5828\n",
      "[4_SIGMOID] Epoch 99: Loss = 0.6793, Accuracy = 0.5828\n",
      "[4_SIGMOID] Final Test Accuracy: 0.5846\n"
     ]
    }
   ],
   "execution_count": 28
  },
  {
   "metadata": {},
   "cell_type": "code",
   "outputs": [],
   "execution_count": null,
   "source": "",
   "id": "d8a5e16bc403c205"
  }
 ],
 "metadata": {
  "kernelspec": {
   "display_name": "Python 3",
   "language": "python",
   "name": "python3"
  },
  "language_info": {
   "codemirror_mode": {
    "name": "ipython",
    "version": 2
   },
   "file_extension": ".py",
   "mimetype": "text/x-python",
   "name": "python",
   "nbconvert_exporter": "python",
   "pygments_lexer": "ipython2",
   "version": "2.7.6"
  }
 },
 "nbformat": 4,
 "nbformat_minor": 5
}
