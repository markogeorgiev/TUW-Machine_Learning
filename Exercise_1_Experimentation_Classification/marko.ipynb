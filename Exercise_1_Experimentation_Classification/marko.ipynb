{
 "cells": [
  {
   "metadata": {
    "ExecuteTime": {
     "end_time": "2025-04-24T21:43:39.220603Z",
     "start_time": "2025-04-24T21:43:37.966140Z"
    }
   },
   "cell_type": "code",
   "source": [
    "import torch\n",
    "print(torch.cuda.is_available())"
   ],
   "id": "86970965816d68c",
   "outputs": [
    {
     "name": "stdout",
     "output_type": "stream",
     "text": [
      "True\n"
     ]
    }
   ],
   "execution_count": 1
  },
  {
   "metadata": {
    "ExecuteTime": {
     "end_time": "2025-04-24T21:43:42.349546Z",
     "start_time": "2025-04-24T21:43:41.908046Z"
    }
   },
   "cell_type": "code",
   "source": [
    "x = torch.rand(5000, 5000).cuda()\n",
    "y = torch.mm(x, x)\n",
    "print(y)"
   ],
   "id": "cf353c7ac2d0b9ae",
   "outputs": [
    {
     "name": "stdout",
     "output_type": "stream",
     "text": [
      "tensor([[1249.7080, 1275.0864, 1275.3453,  ..., 1267.7378, 1252.3220,\n",
      "         1264.3848],\n",
      "        [1230.2849, 1255.5793, 1255.8417,  ..., 1245.1591, 1260.0813,\n",
      "         1214.6724],\n",
      "        [1250.6439, 1256.7516, 1271.6261,  ..., 1259.1284, 1262.8622,\n",
      "         1254.0247],\n",
      "        ...,\n",
      "        [1256.9447, 1272.2457, 1278.2755,  ..., 1277.9875, 1267.7079,\n",
      "         1262.0885],\n",
      "        [1259.6976, 1282.4211, 1286.1539,  ..., 1269.2705, 1274.0341,\n",
      "         1264.1400],\n",
      "        [1235.2375, 1250.6504, 1274.6162,  ..., 1253.2966, 1258.3629,\n",
      "         1241.5743]], device='cuda:0')\n"
     ]
    }
   ],
   "execution_count": 2
  },
  {
   "metadata": {
    "collapsed": true,
    "ExecuteTime": {
     "end_time": "2025-04-24T21:48:00.878789Z",
     "start_time": "2025-04-24T21:45:27.819567Z"
    }
   },
   "cell_type": "code",
   "outputs": [
    {
     "name": "stdout",
     "output_type": "stream",
     "text": [
      "\n",
      "[Fold 1/5]\n",
      "\n",
      "[Fold 2/5]\n",
      "\n",
      "[Fold 3/5]\n",
      "\n",
      "[Fold 4/5]\n",
      "\n",
      "[Fold 5/5]\n",
      "\n",
      "[Fold 1/10]\n",
      "\n",
      "[Fold 2/10]\n",
      "\n",
      "[Fold 3/10]\n",
      "\n",
      "[Fold 4/10]\n",
      "\n",
      "[Fold 5/10]\n",
      "\n",
      "[Fold 6/10]\n",
      "\n",
      "[Fold 7/10]\n",
      "\n",
      "[Fold 8/10]\n",
      "\n",
      "[Fold 9/10]\n",
      "\n",
      "[Fold 10/10]\n",
      "\n",
      "=== 5-Fold Results ===\n",
      "MODEL\tAccuracy\tPrecision\tRecall\t\tF1-Score\n",
      "5-Fold\t0.9648\t\t0.9750\t\t0.9433\t\t0.9589\n",
      "\n",
      "=== 10-Fold Results ===\n",
      "MODEL\tAccuracy\tPrecision\tRecall\t\tF1-Score\n",
      "10-Fold\t0.9647\t\t0.9733\t\t0.9447\t\t0.9588\n"
     ]
    }
   ],
   "execution_count": 4,
   "source": [
    "import pandas as pd\n",
    "import numpy as np\n",
    "import torch\n",
    "import torch.nn as nn\n",
    "import torch.optim as optim\n",
    "from sklearn.model_selection import StratifiedKFold\n",
    "from sklearn.preprocessing import StandardScaler, LabelEncoder\n",
    "from sklearn.metrics import accuracy_score, precision_score, recall_score, f1_score\n",
    "\n",
    "# Load and preprocess dataset\n",
    "df_train = pd.read_csv('Airline_passenger_satiscation_train.csv')\n",
    "df_test = pd.read_csv('Airline_passenger_satiscation_test.csv')\n",
    "df = pd.concat([df_train, df_test], ignore_index=True)\n",
    "df = df.drop(columns=[\"id\"])\n",
    "\n",
    "# Encode categorical features\n",
    "categorical_cols = [\"Gender\", \"Customer Type\", \"Type of Travel\", \"Class\"]\n",
    "for col in categorical_cols:\n",
    "    le = LabelEncoder()\n",
    "    df[col] = le.fit_transform(df[col].astype(str))\n",
    "\n",
    "# Encode target\n",
    "target_encoder = LabelEncoder()\n",
    "df[\"satisfaction\"] = target_encoder.fit_transform(df[\"satisfaction\"])\n",
    "\n",
    "# Clean and prepare data\n",
    "df = df.fillna(0)\n",
    "X = df.drop(columns=[\"satisfaction\"]).values\n",
    "y = df[\"satisfaction\"].values\n",
    "\n",
    "# Normalize features\n",
    "scaler = StandardScaler()\n",
    "X = scaler.fit_transform(X)\n",
    "\n",
    "# Device config\n",
    "device = torch.device(\"cuda\" if torch.cuda.is_available() else \"cpu\")\n",
    "\n",
    "# Custom MLP class with your specified architecture\n",
    "class MLP(nn.Module):\n",
    "    def __init__(self, input_dim, output_dim):\n",
    "        super().__init__()\n",
    "        self.model = nn.Sequential(\n",
    "            nn.Linear(input_dim, 512),\n",
    "            nn.ReLU(),\n",
    "            nn.Dropout(0.3),\n",
    "            nn.Linear(512, 256),\n",
    "            nn.ReLU(),\n",
    "            nn.Dropout(0.3),\n",
    "            nn.Linear(256, 128),\n",
    "            nn.ReLU(),\n",
    "            nn.Linear(128, output_dim)\n",
    "        )\n",
    "\n",
    "    def forward(self, x):\n",
    "        return self.model(x)\n",
    "\n",
    "# Cross-validation function\n",
    "def run_cv(X, y, n_splits):\n",
    "    skf = StratifiedKFold(n_splits=n_splits, shuffle=True, random_state=42)\n",
    "    input_dim = X.shape[1]\n",
    "    output_dim = len(np.unique(y))\n",
    "    results = []\n",
    "\n",
    "    for fold, (train_idx, test_idx) in enumerate(skf.split(X, y), 1):\n",
    "        print(f\"\\n[Fold {fold}/{n_splits}]\")\n",
    "\n",
    "        X_train, X_test = X[train_idx], X[test_idx]\n",
    "        y_train, y_test = y[train_idx], y[test_idx]\n",
    "\n",
    "        X_train_tensor = torch.tensor(X_train, dtype=torch.float32).to(device)\n",
    "        y_train_tensor = torch.tensor(y_train, dtype=torch.long).to(device)\n",
    "        X_test_tensor = torch.tensor(X_test, dtype=torch.float32).to(device)\n",
    "        y_test_tensor = torch.tensor(y_test, dtype=torch.long).to(device)\n",
    "\n",
    "        model = MLP(input_dim, output_dim).to(device)\n",
    "        loss_fn = nn.CrossEntropyLoss()\n",
    "        optimizer = optim.Adam(model.parameters(), lr=0.002)\n",
    "\n",
    "        for epoch in range(300):\n",
    "            model.train()\n",
    "            optimizer.zero_grad()\n",
    "            outputs = model(X_train_tensor)\n",
    "            loss = loss_fn(outputs, y_train_tensor)\n",
    "            loss.backward()\n",
    "            optimizer.step()\n",
    "\n",
    "        model.eval()\n",
    "        with torch.no_grad():\n",
    "            preds = model(X_test_tensor).argmax(dim=1).cpu().numpy()\n",
    "            y_true = y_test_tensor.cpu().numpy()\n",
    "\n",
    "            acc = accuracy_score(y_true, preds)\n",
    "            prec = precision_score(y_true, preds, zero_division=0)\n",
    "            rec = recall_score(y_true, preds, zero_division=0)\n",
    "            f1 = f1_score(y_true, preds, zero_division=0)\n",
    "\n",
    "            results.append((acc, prec, rec, f1))\n",
    "\n",
    "    return results\n",
    "\n",
    "# Run 5-fold and 10-fold CV\n",
    "results_5 = run_cv(X, y, 5)\n",
    "results_10 = run_cv(X, y, 10)\n",
    "\n",
    "# Format results\n",
    "def print_results(results, label):\n",
    "    accs, precs, recs, f1s = zip(*results)\n",
    "    print(f\"\\n=== {label} Results ===\")\n",
    "    print(\"MODEL\\tAccuracy\\tPrecision\\tRecall\\t\\tF1-Score\")\n",
    "    print(f\"{label}\\t{np.mean(accs):.4f}\\t\\t{np.mean(precs):.4f}\\t\\t{np.mean(recs):.4f}\\t\\t{np.mean(f1s):.4f}\")\n",
    "\n",
    "print_results(results_5, \"5-Fold\")\n",
    "print_results(results_10, \"10-Fold\")"
   ],
   "id": "initial_id"
  },
  {
   "metadata": {},
   "cell_type": "code",
   "outputs": [],
   "execution_count": null,
   "source": "",
   "id": "c4a436aeba74da13"
  }
 ],
 "metadata": {
  "kernelspec": {
   "display_name": "Python 3",
   "language": "python",
   "name": "python3"
  },
  "language_info": {
   "codemirror_mode": {
    "name": "ipython",
    "version": 2
   },
   "file_extension": ".py",
   "mimetype": "text/x-python",
   "name": "python",
   "nbconvert_exporter": "python",
   "pygments_lexer": "ipython2",
   "version": "2.7.6"
  }
 },
 "nbformat": 4,
 "nbformat_minor": 5
}
